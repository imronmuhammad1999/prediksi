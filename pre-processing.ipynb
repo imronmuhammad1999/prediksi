{
 "cells": [
  {
   "cell_type": "code",
   "execution_count": 1,
   "metadata": {},
   "outputs": [],
   "source": [
    "import pandas as pd\n",
    "import numpy as np"
   ]
  },
  {
   "cell_type": "code",
   "execution_count": 2,
   "metadata": {},
   "outputs": [],
   "source": [
    "data = pd.read_csv('stock_data.csv')"
   ]
  },
  {
   "cell_type": "code",
   "execution_count": 3,
   "metadata": {},
   "outputs": [],
   "source": [
    "pd.set_option('display.max_columns', None)\n",
    "pd.set_option('display.expand_frame_repr', False)\n",
    "pd.set_option('display.width', 1000)"
   ]
  },
  {
   "cell_type": "code",
   "execution_count": 4,
   "metadata": {},
   "outputs": [
    {
     "name": "stdout",
     "output_type": "stream",
     "text": [
      "\n",
      "Data Inspection:\n",
      "\n",
      "<class 'pandas.core.frame.DataFrame'>\n",
      "RangeIndex: 725 entries, 0 to 724\n",
      "Data columns (total 7 columns):\n",
      " #   Column     Non-Null Count  Dtype  \n",
      "---  ------     --------------  -----  \n",
      " 0   Date       725 non-null    object \n",
      " 1   Open       725 non-null    float64\n",
      " 2   High       725 non-null    float64\n",
      " 3   Low        725 non-null    float64\n",
      " 4   Close      725 non-null    float64\n",
      " 5   Adj Close  725 non-null    float64\n",
      " 6   Volume     725 non-null    int64  \n",
      "dtypes: float64(5), int64(1), object(1)\n",
      "memory usage: 39.8+ KB\n",
      "None\n",
      "               Open          High           Low         Close     Adj Close        Volume\n",
      "count    725.000000    725.000000    725.000000    725.000000    725.000000  7.250000e+02\n",
      "mean    8733.648276   8807.082759   8665.620690   8736.896552   8445.936478  8.412781e+07\n",
      "std      917.992740    914.534839    911.286672    915.161442   1055.661719  5.791244e+07\n",
      "min     7025.000000   7100.000000   7000.000000   7000.000000   6650.422363  1.065390e+07\n",
      "25%     7900.000000   7950.000000   7825.000000   7925.000000   7481.725098  5.519230e+07\n",
      "50%     8825.000000   8875.000000   8725.000000   8800.000000   8504.034180  7.238170e+07\n",
      "75%     9300.000000   9400.000000   9250.000000   9300.000000   9144.635742  9.729330e+07\n",
      "max    10900.000000  10950.000000  10775.000000  10950.000000  10950.000000  7.564316e+08\n"
     ]
    }
   ],
   "source": [
    "print(\"\\nData Inspection:\\n\")\n",
    "print(data.info())\n",
    "print(data.describe())"
   ]
  },
  {
   "cell_type": "code",
   "execution_count": 5,
   "metadata": {},
   "outputs": [
    {
     "name": "stdout",
     "output_type": "stream",
     "text": [
      "Head of data:\n",
      "         Date    Open    High     Low   Close    Adj Close     Volume\n",
      "0 2021-10-11  7240.0  7290.0  7230.0  7255.0  6765.942871   47201000\n",
      "1 2021-10-12  7255.0  7320.0  7245.0  7320.0  6826.561523   91067000\n",
      "2 2021-10-13  7400.0  8250.0  7400.0  7525.0  7017.741699  210893300\n",
      "3 2021-10-14  7600.0  7900.0  7600.0  7750.0  7227.575195  138811900\n",
      "4 2021-10-15  7800.0  7875.0  7450.0  7650.0  7134.316406  142378200\n"
     ]
    }
   ],
   "source": [
    "data['Date'] = pd.to_datetime(data['Date'])\n",
    "print(\"Head of data:\\n\", data.head())"
   ]
  },
  {
   "cell_type": "code",
   "execution_count": 6,
   "metadata": {},
   "outputs": [
    {
     "name": "stdout",
     "output_type": "stream",
     "text": [
      "Head of selected data:\n",
      "         Date   Close\n",
      "0 2021-10-11  7255.0\n",
      "1 2021-10-12  7320.0\n",
      "2 2021-10-13  7525.0\n",
      "3 2021-10-14  7750.0\n",
      "4 2021-10-15  7650.0\n",
      "Tail of selected data:\n",
      "           Date    Close\n",
      "720 2024-10-03  10450.0\n",
      "721 2024-10-04  10475.0\n",
      "722 2024-10-07  10300.0\n",
      "723 2024-10-08  10400.0\n",
      "724 2024-10-09  10425.0\n"
     ]
    }
   ],
   "source": [
    "selected_data = data[['Date','Close']]\n",
    "print(\"Head of selected data:\\n\", selected_data.head())\n",
    "print(\"Tail of selected data:\\n\", selected_data.tail())"
   ]
  },
  {
   "cell_type": "code",
   "execution_count": 7,
   "metadata": {},
   "outputs": [
    {
     "name": "stdout",
     "output_type": "stream",
     "text": [
      "Head of data:\n",
      "         Date    Open    High     Low   Close    Adj Close     Volume\n",
      "0 2021-10-11  7240.0  7290.0  7230.0  7255.0  6765.942871   47201000\n",
      "1 2021-10-12  7255.0  7320.0  7245.0  7320.0  6826.561523   91067000\n",
      "2 2021-10-13  7400.0  8250.0  7400.0  7525.0  7017.741699  210893300\n",
      "3 2021-10-14  7600.0  7900.0  7600.0  7750.0  7227.575195  138811900\n",
      "4 2021-10-15  7800.0  7875.0  7450.0  7650.0  7134.316406  142378200\n",
      "Tail of data:\n",
      "           Date     Open     High      Low    Close  Adj Close    Volume\n",
      "720 2024-10-03  10450.0  10525.0  10400.0  10450.0    10450.0  60887000\n",
      "721 2024-10-04  10400.0  10475.0  10350.0  10475.0    10475.0  58500400\n",
      "722 2024-10-07  10350.0  10375.0  10250.0  10300.0    10300.0  91867900\n",
      "723 2024-10-08  10200.0  10500.0  10150.0  10400.0    10400.0  99622900\n",
      "724 2024-10-09  10400.0  10525.0  10400.0  10425.0    10425.0  56835200\n"
     ]
    }
   ],
   "source": [
    "print(\"Head of data:\\n\", data.head())\n",
    "print(\"Tail of data:\\n\", data.tail())"
   ]
  },
  {
   "cell_type": "code",
   "execution_count": 8,
   "metadata": {},
   "outputs": [
    {
     "name": "stdout",
     "output_type": "stream",
     "text": [
      "\n",
      "Descriptive statistics:\n",
      "\n",
      "                                Date          Open          High           Low         Close     Adj Close        Volume\n",
      "count                            725    725.000000    725.000000    725.000000    725.000000    725.000000  7.250000e+02\n",
      "mean   2023-04-06 05:05:52.551724288   8733.648276   8807.082759   8665.620690   8736.896552   8445.936478  8.412781e+07\n",
      "min              2021-10-11 00:00:00   7025.000000   7100.000000   7000.000000   7000.000000   6650.422363  1.065390e+07\n",
      "25%              2022-07-12 00:00:00   7900.000000   7950.000000   7825.000000   7925.000000   7481.725098  5.519230e+07\n",
      "50%              2023-03-28 00:00:00   8825.000000   8875.000000   8725.000000   8800.000000   8504.034180  7.238170e+07\n",
      "75%              2024-01-02 00:00:00   9300.000000   9400.000000   9250.000000   9300.000000   9144.635742  9.729330e+07\n",
      "max              2024-10-09 00:00:00  10900.000000  10950.000000  10775.000000  10950.000000  10950.000000  7.564316e+08\n",
      "std                              NaN    917.992740    914.534839    911.286672    915.161442   1055.661719  5.791244e+07\n"
     ]
    }
   ],
   "source": [
    "print(\"\\nDescriptive statistics:\\n\")\n",
    "print(data.describe())"
   ]
  },
  {
   "cell_type": "code",
   "execution_count": 9,
   "metadata": {},
   "outputs": [
    {
     "name": "stdout",
     "output_type": "stream",
     "text": [
      "\n",
      "Missing values:\n",
      "\n",
      "Date         0\n",
      "Open         0\n",
      "High         0\n",
      "Low          0\n",
      "Close        0\n",
      "Adj Close    0\n",
      "Volume       0\n",
      "dtype: int64\n"
     ]
    }
   ],
   "source": [
    "print(\"\\nMissing values:\\n\")\n",
    "print(data.isnull().sum())"
   ]
  },
  {
   "cell_type": "code",
   "execution_count": 10,
   "metadata": {},
   "outputs": [
    {
     "name": "stdout",
     "output_type": "stream",
     "text": [
      "\n",
      "Duplicate values:\n",
      "\n",
      "0\n"
     ]
    }
   ],
   "source": [
    "print(\"\\nDuplicate values:\\n\")\n",
    "print(data.duplicated().sum())"
   ]
  },
  {
   "cell_type": "code",
   "execution_count": 11,
   "metadata": {},
   "outputs": [
    {
     "name": "stdout",
     "output_type": "stream",
     "text": [
      "                    Date     Open     High      Low    Close    Adj Close     Volume\n",
      "0    2021-10-11 00:00:00   7240.0   7290.0   7230.0   7255.0  6765.942871   47201000\n",
      "1    2021-10-12 00:00:00   7255.0   7320.0   7245.0   7320.0  6826.561523   91067000\n",
      "2    2021-10-13 00:00:00   7400.0   8250.0   7400.0   7525.0  7017.741699  210893300\n",
      "3    2021-10-14 00:00:00   7600.0   7900.0   7600.0   7750.0  7227.575195  138811900\n",
      "4    2021-10-15 00:00:00   7800.0   7875.0   7450.0   7650.0  7134.316406  142378200\n",
      "0                    ...      ...      ...      ...      ...          ...        ...\n",
      "720  2024-10-03 00:00:00  10450.0  10525.0  10400.0  10450.0      10450.0   60887000\n",
      "721  2024-10-04 00:00:00  10400.0  10475.0  10350.0  10475.0      10475.0   58500400\n",
      "722  2024-10-07 00:00:00  10350.0  10375.0  10250.0  10300.0      10300.0   91867900\n",
      "723  2024-10-08 00:00:00  10200.0  10500.0  10150.0  10400.0      10400.0   99622900\n",
      "724  2024-10-09 00:00:00  10400.0  10525.0  10400.0  10425.0      10425.0   56835200\n"
     ]
    }
   ],
   "source": [
    "# Menampilkan 5 baris pertama (head) dan 5 baris terakhir (tail)\n",
    "head_data = data.head()\n",
    "tail_data = data.tail()\n",
    "\n",
    "# Membuat baris pemisah berupa titik-titik (untuk menunjukkan ada banyak data di antaranya)\n",
    "separator = pd.DataFrame(['...'] * data.shape[1]).T\n",
    "separator.columns = data.columns  # Mengatur kolom agar sesuai dengan data\n",
    "\n",
    "# Menggabungkan head, separator, dan tail\n",
    "data_combined = pd.concat([head_data, separator, tail_data])\n",
    "\n",
    "# Menampilkan tabel gabungan\n",
    "print(data_combined)"
   ]
  },
  {
   "cell_type": "code",
   "execution_count": null,
   "metadata": {},
   "outputs": [],
   "source": []
  }
 ],
 "metadata": {
  "kernelspec": {
   "display_name": "Python 3",
   "language": "python",
   "name": "python3"
  },
  "language_info": {
   "codemirror_mode": {
    "name": "ipython",
    "version": 3
   },
   "file_extension": ".py",
   "mimetype": "text/x-python",
   "name": "python",
   "nbconvert_exporter": "python",
   "pygments_lexer": "ipython3",
   "version": "3.9.13"
  }
 },
 "nbformat": 4,
 "nbformat_minor": 4
}
